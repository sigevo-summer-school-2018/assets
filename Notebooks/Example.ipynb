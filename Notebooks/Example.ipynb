{
  "nbformat": 4,
  "nbformat_minor": 0,
  "metadata": {
    "colab": {
      "name": "SummerNotebook.ipynb",
      "version": "0.3.2",
      "views": {},
      "default_view": {},
      "provenance": [],
      "toc_visible": true
    },
    "kernelspec": {
      "name": "python3",
      "display_name": "Python 3"
    }
  },
  "cells": [
    {
      "metadata": {
        "id": "pK9cM_w4c0vw",
        "colab_type": "text"
      },
      "cell_type": "markdown",
      "source": [
        "#Colab and Jupyter Notebooks Quick Tour"
      ]
    },
    {
      "metadata": {
        "id": "pPR-cRWZwpUE",
        "colab_type": "text"
      },
      "cell_type": "markdown",
      "source": [
        "##Welcome\n",
        "\n",
        "First we are going to visit a notebbok from [Colab](https://colab.research.google.com/notebooks/welcome.ipynb#scrollTo=9J7p406abzgl)."
      ]
    },
    {
      "metadata": {
        "id": "RiUD6XJva4pz",
        "colab_type": "text"
      },
      "cell_type": "markdown",
      "source": [
        "## Loading  and saving data\n",
        "\n",
        "There are several options for Google external sources:\n",
        "\n",
        "* Local files\n",
        "* Google Drive\n",
        "* Google Sheets\n",
        "* Google Cloud Storage\n",
        "\n",
        " \n"
      ]
    },
    {
      "metadata": {
        "id": "CGvabLA9cbeU",
        "colab_type": "text"
      },
      "cell_type": "markdown",
      "source": [
        "###Upload local files\n",
        "\n",
        "With this [snippet](https://colab.research.google.com/notebooks/io.ipynb) we can choose a file to upload from our local system:"
      ]
    },
    {
      "metadata": {
        "id": "0wXbSKtNcz3y",
        "colab_type": "code",
        "colab": {
          "autoexec": {
            "startup": false,
            "wait_interval": 0
          },
          "base_uri": "https://localhost:8080/",
          "height": 89
        },
        "outputId": "efb75baa-92b7-4b04-f6cc-0aa84b7933e3",
        "executionInfo": {
          "status": "ok",
          "timestamp": 1530978877341,
          "user_tz": 420,
          "elapsed": 18186,
          "user": {
            "displayName": "Mario Garcia Valdez",
            "photoUrl": "//lh4.googleusercontent.com/-_Y_DxWjd68Y/AAAAAAAAAAI/AAAAAAAAF4Q/440GV_fkbr4/s50-c-k-no/photo.jpg",
            "userId": "108323540264991598594"
          }
        }
      },
      "cell_type": "code",
      "source": [
        "from google.colab import files\n",
        "\n",
        "uploaded = files.upload()\n",
        "\n",
        "for fn in uploaded.keys():\n",
        "  print('User uploaded file \"{name}\" with length {length} bytes'.format(\n",
        "      name=fn, length=len(uploaded[fn])))"
      ],
      "execution_count": 1,
      "outputs": [
        {
          "output_type": "display_data",
          "data": {
            "text/html": [
              "\n",
              "     <input type=\"file\" id=\"files-621d67bb-06ae-4015-9601-34db40fa2fad\" name=\"files[]\" multiple disabled />\n",
              "     <output id=\"result-621d67bb-06ae-4015-9601-34db40fa2fad\">\n",
              "      Upload widget is only available when the cell has been executed in the\n",
              "      current browser session. Please rerun this cell to enable.\n",
              "      </output>\n",
              "      <script src=\"/nbextensions/google.colab/files.js\"></script> "
            ],
            "text/plain": [
              "<IPython.core.display.HTML object>"
            ]
          },
          "metadata": {
            "tags": []
          }
        },
        {
          "output_type": "stream",
          "text": [
            "Saving auto-mpg.data to auto-mpg.data\n",
            "User uploaded file \"auto-mpg.data\" with length 30286 bytes\n"
          ],
          "name": "stdout"
        }
      ]
    },
    {
      "metadata": {
        "id": "eqXb2kUHeFjh",
        "colab_type": "text"
      },
      "cell_type": "markdown",
      "source": [
        "We can check to see if it was uploaded correctly by using a system call: "
      ]
    },
    {
      "metadata": {
        "id": "U76sSNb7dSua",
        "colab_type": "code",
        "colab": {
          "autoexec": {
            "startup": false,
            "wait_interval": 0
          },
          "base_uri": "https://localhost:8080/",
          "height": 35
        },
        "outputId": "11cf64c7-d4ad-4c4f-e163-c00f31f2d51f",
        "executionInfo": {
          "status": "ok",
          "timestamp": 1530980883598,
          "user_tz": 420,
          "elapsed": 1455,
          "user": {
            "displayName": "Mario Garcia Valdez",
            "photoUrl": "//lh4.googleusercontent.com/-_Y_DxWjd68Y/AAAAAAAAAAI/AAAAAAAAF4Q/440GV_fkbr4/s50-c-k-no/photo.jpg",
            "userId": "108323540264991598594"
          }
        }
      },
      "cell_type": "code",
      "source": [
        "!ls"
      ],
      "execution_count": 10,
      "outputs": [
        {
          "output_type": "stream",
          "text": [
            "auto-mpg.data  datalab\r\n"
          ],
          "name": "stdout"
        }
      ]
    },
    {
      "metadata": {
        "id": "46bBM4jcdtMk",
        "colab_type": "text"
      },
      "cell_type": "markdown",
      "source": [
        "### Upload a file from Google Drive using  [PyDrive](https://googledrive.github.io/PyDrive/docs/build/html/index.html)"
      ]
    },
    {
      "metadata": {
        "id": "6OQbR5IpfnOK",
        "colab_type": "text"
      },
      "cell_type": "markdown",
      "source": [
        "We must install the PyDrive library first:"
      ]
    },
    {
      "metadata": {
        "id": "ZgcRnVEJfx5y",
        "colab_type": "code",
        "colab": {
          "autoexec": {
            "startup": false,
            "wait_interval": 0
          },
          "base_uri": "https://localhost:8080/",
          "height": 17
        },
        "outputId": "3c054224-3919-42b6-9160-06e5ba4a1a57",
        "executionInfo": {
          "status": "ok",
          "timestamp": 1531063890567,
          "user_tz": 420,
          "elapsed": 4060,
          "user": {
            "displayName": "Mario Garcia Valdez",
            "photoUrl": "//lh4.googleusercontent.com/-_Y_DxWjd68Y/AAAAAAAAAAI/AAAAAAAAF4Q/440GV_fkbr4/s50-c-k-no/photo.jpg",
            "userId": "108323540264991598594"
          }
        }
      },
      "cell_type": "code",
      "source": [
        "!pip install -U -q PyDrive"
      ],
      "execution_count": 1,
      "outputs": []
    },
    {
      "metadata": {
        "id": "bGzeaZGof5Fz",
        "colab_type": "text"
      },
      "cell_type": "markdown",
      "source": [
        "We need to import the libraries we need"
      ]
    },
    {
      "metadata": {
        "id": "IIF-YNR3gDKi",
        "colab_type": "code",
        "colab": {
          "autoexec": {
            "startup": false,
            "wait_interval": 0
          },
          "base_uri": "https://localhost:8080/",
          "height": 17
        },
        "outputId": "60ff59c6-7311-4850-e3b6-8ab27082cd96",
        "executionInfo": {
          "status": "ok",
          "timestamp": 1531063897556,
          "user_tz": 420,
          "elapsed": 396,
          "user": {
            "displayName": "Mario Garcia Valdez",
            "photoUrl": "//lh4.googleusercontent.com/-_Y_DxWjd68Y/AAAAAAAAAAI/AAAAAAAAF4Q/440GV_fkbr4/s50-c-k-no/photo.jpg",
            "userId": "108323540264991598594"
          }
        }
      },
      "cell_type": "code",
      "source": [
        "from pydrive.auth import GoogleAuth\n",
        "from pydrive.drive import GoogleDrive\n",
        "from google.colab import auth\n",
        "from oauth2client.client import GoogleCredentials"
      ],
      "execution_count": 2,
      "outputs": []
    },
    {
      "metadata": {
        "id": "RRdiZ8JKf5ES",
        "colab_type": "text"
      },
      "cell_type": "markdown",
      "source": [
        "We must first authenticate with google and create the `GoogleDrive` client."
      ]
    },
    {
      "metadata": {
        "id": "D0W3E2WEhSCT",
        "colab_type": "code",
        "colab": {
          "autoexec": {
            "startup": false,
            "wait_interval": 0
          },
          "base_uri": "https://localhost:8080/",
          "height": 17
        },
        "outputId": "464d61b5-51d7-497c-d4a5-4c22499a99db",
        "executionInfo": {
          "status": "ok",
          "timestamp": 1531063929587,
          "user_tz": 420,
          "elapsed": 131,
          "user": {
            "displayName": "Mario Garcia Valdez",
            "photoUrl": "//lh4.googleusercontent.com/-_Y_DxWjd68Y/AAAAAAAAAAI/AAAAAAAAF4Q/440GV_fkbr4/s50-c-k-no/photo.jpg",
            "userId": "108323540264991598594"
          }
        }
      },
      "cell_type": "code",
      "source": [
        "auth.authenticate_user()\n",
        "gauth = GoogleAuth()\n",
        "gauth.credentials = GoogleCredentials.get_application_default()\n",
        "drive = GoogleDrive(gauth)"
      ],
      "execution_count": 3,
      "outputs": []
    },
    {
      "metadata": {
        "id": "lMw5rA9ziVZz",
        "colab_type": "text"
      },
      "cell_type": "markdown",
      "source": [
        "Now  we can download the file and print its contents.  \n",
        "If an output is to long we can delete it with the corresponding option in the *code cell* menu.\n",
        "\n"
      ]
    },
    {
      "metadata": {
        "id": "NaQuTGnsg_KL",
        "colab_type": "code",
        "colab": {
          "autoexec": {
            "startup": false,
            "wait_interval": 0
          }
        }
      },
      "cell_type": "code",
      "source": [
        "data = drive.CreateFile({'id': '1pi40wcRtqCdqwbBx9ISrAZVLHF-MMQox'})\n",
        "print('Downloaded content \"{}\"'.format(data.GetContentString()))"
      ],
      "execution_count": 0,
      "outputs": []
    },
    {
      "metadata": {
        "id": "JqxVN8Nrm77t",
        "colab_type": "text"
      },
      "cell_type": "markdown",
      "source": [
        "###Upload a file from the web"
      ]
    },
    {
      "metadata": {
        "id": "XVb1NHbHnSlu",
        "colab_type": "text"
      },
      "cell_type": "markdown",
      "source": [
        "Another option is to download the file from the [UCI ML Repository](https://archive.ics.uci.edu/ml/index.php). We can use the [requests](http://docs.python-requests.org/en/master/) library."
      ]
    },
    {
      "metadata": {
        "id": "zuY3tRGgmAtc",
        "colab_type": "code",
        "colab": {
          "autoexec": {
            "startup": false,
            "wait_interval": 0
          }
        }
      },
      "cell_type": "code",
      "source": [
        "import requests\n",
        "r = requests.get('https://archive.ics.uci.edu/ml/machine-learning-databases/iris/iris.data')\n",
        "print(r.text)"
      ],
      "execution_count": 0,
      "outputs": []
    },
    {
      "metadata": {
        "id": "Vave04Yigx9e",
        "colab_type": "text"
      },
      "cell_type": "markdown",
      "source": [
        "## Python + Numpy + Matplotlib \n",
        "\n"
      ]
    },
    {
      "metadata": {
        "id": "-WAKbeb1ocs7",
        "colab_type": "text"
      },
      "cell_type": "markdown",
      "source": [
        "We are going to use **python** to read the file. We need to split the file into lines first:"
      ]
    },
    {
      "metadata": {
        "id": "xj6Z8n6LkjT5",
        "colab_type": "code",
        "colab": {
          "autoexec": {
            "startup": false,
            "wait_interval": 0
          },
          "base_uri": "https://localhost:8080/",
          "height": 55
        },
        "outputId": "c1ce9c1b-f66f-4e4f-ee58-1ad4b0ebf4ee",
        "executionInfo": {
          "status": "ok",
          "timestamp": 1531065937378,
          "user_tz": 420,
          "elapsed": 839,
          "user": {
            "displayName": "Mario Garcia Valdez",
            "photoUrl": "//lh4.googleusercontent.com/-_Y_DxWjd68Y/AAAAAAAAAAI/AAAAAAAAF4Q/440GV_fkbr4/s50-c-k-no/photo.jpg",
            "userId": "108323540264991598594"
          }
        }
      },
      "cell_type": "code",
      "source": [
        "iris_rows = r.text.split('\\n')\n",
        "print (iris_rows[:5])\n"
      ],
      "execution_count": 11,
      "outputs": [
        {
          "output_type": "stream",
          "text": [
            "['5.1,3.5,1.4,0.2,Iris-setosa', '4.9,3.0,1.4,0.2,Iris-setosa', '4.7,3.2,1.3,0.2,Iris-setosa', '4.6,3.1,1.5,0.2,Iris-setosa', '5.0,3.6,1.4,0.2,Iris-setosa']\n"
          ],
          "name": "stdout"
        }
      ]
    },
    {
      "metadata": {
        "id": "MJu6ORrZpibz",
        "colab_type": "text"
      },
      "cell_type": "markdown",
      "source": [
        "We use **slicing** to get fragments from the list."
      ]
    },
    {
      "metadata": {
        "id": "pH6S9MFYptBW",
        "colab_type": "code",
        "colab": {
          "autoexec": {
            "startup": false,
            "wait_interval": 0
          },
          "base_uri": "https://localhost:8080/",
          "height": 35
        },
        "outputId": "00394f30-f32f-4c43-e21d-6a42bf5095bf",
        "executionInfo": {
          "status": "ok",
          "timestamp": 1531066135472,
          "user_tz": 420,
          "elapsed": 530,
          "user": {
            "displayName": "Mario Garcia Valdez",
            "photoUrl": "//lh4.googleusercontent.com/-_Y_DxWjd68Y/AAAAAAAAAAI/AAAAAAAAF4Q/440GV_fkbr4/s50-c-k-no/photo.jpg",
            "userId": "108323540264991598594"
          }
        }
      },
      "cell_type": "code",
      "source": [
        "iris_rows[-4:]"
      ],
      "execution_count": 13,
      "outputs": [
        {
          "output_type": "execute_result",
          "data": {
            "text/plain": [
              "['6.2,3.4,5.4,2.3,Iris-virginica', '5.9,3.0,5.1,1.8,Iris-virginica', '', '']"
            ]
          },
          "metadata": {
            "tags": []
          },
          "execution_count": 13
        }
      ]
    },
    {
      "metadata": {
        "id": "1MjfJOS3qCub",
        "colab_type": "text"
      },
      "cell_type": "markdown",
      "source": [
        "We use ***list comprehensions*** to get only what we need:"
      ]
    },
    {
      "metadata": {
        "id": "4dsnFlJWqQq9",
        "colab_type": "code",
        "colab": {
          "autoexec": {
            "startup": false,
            "wait_interval": 0
          }
        }
      },
      "cell_type": "code",
      "source": [
        "[row.split(',')[:-1] for row in iris_rows[:-2]]\n"
      ],
      "execution_count": 0,
      "outputs": []
    },
    {
      "metadata": {
        "id": "nECbOWzuq7_r",
        "colab_type": "text"
      },
      "cell_type": "markdown",
      "source": [
        "Finally by using the function map we can get the array we need."
      ]
    },
    {
      "metadata": {
        "id": "XqEkbAAiq7Vz",
        "colab_type": "code",
        "colab": {
          "autoexec": {
            "startup": false,
            "wait_interval": 0
          }
        }
      },
      "cell_type": "code",
      "source": [
        "[map(float, row.split(',')[:-1]) for row in iris_rows[:-2]]"
      ],
      "execution_count": 0,
      "outputs": []
    },
    {
      "metadata": {
        "id": "cLDN32FgrhLj",
        "colab_type": "text"
      },
      "cell_type": "markdown",
      "source": [
        "In Python 3, **map** is a generator object, but we can extract a list."
      ]
    },
    {
      "metadata": {
        "id": "oBUG4ZLdrw-j",
        "colab_type": "code",
        "colab": {
          "autoexec": {
            "startup": false,
            "wait_interval": 0
          }
        }
      },
      "cell_type": "code",
      "source": [
        "[list(map(float, row.split(',')[:-1])) for row in iris_rows[:-2]]"
      ],
      "execution_count": 0,
      "outputs": []
    },
    {
      "metadata": {
        "id": "UN2hmq_csLLt",
        "colab_type": "text"
      },
      "cell_type": "markdown",
      "source": [
        "Let's create a NumPy array: "
      ]
    },
    {
      "metadata": {
        "id": "GpEgIU3usUK0",
        "colab_type": "code",
        "colab": {
          "autoexec": {
            "startup": false,
            "wait_interval": 0
          },
          "base_uri": "https://localhost:8080/",
          "height": 107
        },
        "outputId": "d85350d8-308b-40f8-bc97-136954f2f180",
        "executionInfo": {
          "status": "ok",
          "timestamp": 1531066869182,
          "user_tz": 420,
          "elapsed": 378,
          "user": {
            "displayName": "Mario Garcia Valdez",
            "photoUrl": "//lh4.googleusercontent.com/-_Y_DxWjd68Y/AAAAAAAAAAI/AAAAAAAAF4Q/440GV_fkbr4/s50-c-k-no/photo.jpg",
            "userId": "108323540264991598594"
          }
        }
      },
      "cell_type": "code",
      "source": [
        "import numpy\n",
        "iris_data = [list(map(float, row.split(',')[:-1])) for row in iris_rows[:-2]]\n",
        "iris = numpy.array(iris_data)\n",
        "iris[:5]"
      ],
      "execution_count": 21,
      "outputs": [
        {
          "output_type": "execute_result",
          "data": {
            "text/plain": [
              "array([[5.1, 3.5, 1.4, 0.2],\n",
              "       [4.9, 3. , 1.4, 0.2],\n",
              "       [4.7, 3.2, 1.3, 0.2],\n",
              "       [4.6, 3.1, 1.5, 0.2],\n",
              "       [5. , 3.6, 1.4, 0.2]])"
            ]
          },
          "metadata": {
            "tags": []
          },
          "execution_count": 21
        }
      ]
    },
    {
      "metadata": {
        "id": "rsp4I_-ctEeM",
        "colab_type": "text"
      },
      "cell_type": "markdown",
      "source": [
        "We can explore the data with **matplotlib**:"
      ]
    },
    {
      "metadata": {
        "id": "KywZr8eytLMs",
        "colab_type": "code",
        "colab": {
          "autoexec": {
            "startup": false,
            "wait_interval": 0
          },
          "base_uri": "https://localhost:8080/",
          "height": 350
        },
        "outputId": "554ffadb-2fff-416d-d546-cf08a68e8578",
        "executionInfo": {
          "status": "ok",
          "timestamp": 1531067035804,
          "user_tz": 420,
          "elapsed": 440,
          "user": {
            "displayName": "Mario Garcia Valdez",
            "photoUrl": "//lh4.googleusercontent.com/-_Y_DxWjd68Y/AAAAAAAAAAI/AAAAAAAAF4Q/440GV_fkbr4/s50-c-k-no/photo.jpg",
            "userId": "108323540264991598594"
          }
        }
      },
      "cell_type": "code",
      "source": [
        "import matplotlib.pyplot as plt\n",
        "x = iris[:50,0]\n",
        "y = iris[:50,1]\n",
        "plt.plot(x, y, 'r.')\n",
        "plt.show()"
      ],
      "execution_count": 23,
      "outputs": [
        {
          "output_type": "display_data",
          "data": {
            "image/png": "[encoded data removed]",
            "text/plain": [
              "<matplotlib.figure.Figure at 0x7f70c3813f60>"
            ]
          },
          "metadata": {
            "tags": []
          }
        }
      ]
    },
    {
      "metadata": {
        "id": "zpsB_rCdtl1s",
        "colab_type": "text"
      },
      "cell_type": "markdown",
      "source": [
        "We can plot two types of flowers:"
      ]
    },
    {
      "metadata": {
        "id": "_ay31lFtt1KU",
        "colab_type": "code",
        "colab": {
          "autoexec": {
            "startup": false,
            "wait_interval": 0
          },
          "base_uri": "https://localhost:8080/",
          "height": 367
        },
        "outputId": "79e4d153-3818-4698-9918-9cd95740c4ec",
        "executionInfo": {
          "status": "ok",
          "timestamp": 1531067268712,
          "user_tz": 420,
          "elapsed": 467,
          "user": {
            "displayName": "Mario Garcia Valdez",
            "photoUrl": "//lh4.googleusercontent.com/-_Y_DxWjd68Y/AAAAAAAAAAI/AAAAAAAAF4Q/440GV_fkbr4/s50-c-k-no/photo.jpg",
            "userId": "108323540264991598594"
          }
        }
      },
      "cell_type": "code",
      "source": [
        "plt.plot( iris[:50,0], iris[:50,1], 'r.')\n",
        "plt.plot( iris[51:100,0], iris[51:100,1], 'b.')\n"
      ],
      "execution_count": 24,
      "outputs": [
        {
          "output_type": "execute_result",
          "data": {
            "text/plain": [
              "[<matplotlib.lines.Line2D at 0x7f70c375d748>]"
            ]
          },
          "metadata": {
            "tags": []
          },
          "execution_count": 24
        },
        {
          "output_type": "display_data",
          "data": {
            "image/png": "[encoded data removed]",
            "text/plain": [
              "<matplotlib.figure.Figure at 0x7f70c375deb8>"
            ]
          },
          "metadata": {
            "tags": []
          }
        }
      ]
    },
    {
      "metadata": {
        "id": "18R2y9AmuOhM",
        "colab_type": "text"
      },
      "cell_type": "markdown",
      "source": [
        "Let's do three"
      ]
    },
    {
      "metadata": {
        "id": "mxzVW-gLuY0c",
        "colab_type": "code",
        "colab": {
          "autoexec": {
            "startup": false,
            "wait_interval": 0
          },
          "base_uri": "https://localhost:8080/",
          "height": 367
        },
        "outputId": "675dd66a-4e8b-46de-fbff-c5a6278714fa",
        "executionInfo": {
          "status": "ok",
          "timestamp": 1531067381821,
          "user_tz": 420,
          "elapsed": 585,
          "user": {
            "displayName": "Mario Garcia Valdez",
            "photoUrl": "//lh4.googleusercontent.com/-_Y_DxWjd68Y/AAAAAAAAAAI/AAAAAAAAF4Q/440GV_fkbr4/s50-c-k-no/photo.jpg",
            "userId": "108323540264991598594"
          }
        }
      },
      "cell_type": "code",
      "source": [
        "plt.plot( iris[:50,0], iris[:50,1], 'r.')\n",
        "plt.plot( iris[51:100,0], iris[51:100,1], 'b.')\n",
        "plt.plot( iris[101:,0], iris[101:,1], 'g.')"
      ],
      "execution_count": 26,
      "outputs": [
        {
          "output_type": "execute_result",
          "data": {
            "text/plain": [
              "[<matplotlib.lines.Line2D at 0x7f70c37ef128>]"
            ]
          },
          "metadata": {
            "tags": []
          },
          "execution_count": 26
        },
        {
          "output_type": "display_data",
          "data": {
            "image/png": "[encoded data removed]",
            "text/plain": [
              "<matplotlib.figure.Figure at 0x7f70c16cd780>"
            ]
          },
          "metadata": {
            "tags": []
          }
        }
      ]
    },
    {
      "metadata": {
        "id": "UrZylYdnwRRZ",
        "colab_type": "text"
      },
      "cell_type": "markdown",
      "source": [
        "##DEAP notebook\n",
        "\n",
        "Here we have an example [DEAP notebook](https://github.com/DEAP/notebooks/blob/master/OneMax.ipynb) from Github. \n",
        "We can visit or we can invite.\n",
        "If we invite we need to **!pip install deap **"
      ]
    }
  ]
}